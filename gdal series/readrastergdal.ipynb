{
 "cells": [
  {
   "cell_type": "code",
   "execution_count": 3,
   "id": "53d4e02a",
   "metadata": {},
   "outputs": [],
   "source": [
    "from osgeo import gdal"
   ]
  },
  {
   "cell_type": "code",
   "execution_count": 8,
   "id": "614e9986",
   "metadata": {},
   "outputs": [],
   "source": [
    "dataset = gdal.Open('raster_example1.tif')"
   ]
  },
  {
   "cell_type": "code",
   "execution_count": 9,
   "id": "0e942c1f",
   "metadata": {},
   "outputs": [
    {
     "name": "stdout",
     "output_type": "stream",
     "text": [
      "<osgeo.gdal.Dataset; proxy of <Swig Object of type 'GDALDatasetShadow *' at 0x000001ACE24AB900> >\n"
     ]
    }
   ],
   "source": [
    "print(dataset)"
   ]
  },
  {
   "cell_type": "code",
   "execution_count": 10,
   "id": "9399a2f5",
   "metadata": {},
   "outputs": [
    {
     "name": "stdout",
     "output_type": "stream",
     "text": [
      "Driver: GTiff/GeoTIFF\n",
      "Files: raster_example1.tif\n",
      "Size is 648, 282\n",
      "Coordinate System is:\n",
      "GEOGCRS[\"WGS 84\",\n",
      "    ENSEMBLE[\"World Geodetic System 1984 ensemble\",\n",
      "        MEMBER[\"World Geodetic System 1984 (Transit)\"],\n",
      "        MEMBER[\"World Geodetic System 1984 (G730)\"],\n",
      "        MEMBER[\"World Geodetic System 1984 (G873)\"],\n",
      "        MEMBER[\"World Geodetic System 1984 (G1150)\"],\n",
      "        MEMBER[\"World Geodetic System 1984 (G1674)\"],\n",
      "        MEMBER[\"World Geodetic System 1984 (G1762)\"],\n",
      "        MEMBER[\"World Geodetic System 1984 (G2139)\"],\n",
      "        ELLIPSOID[\"WGS 84\",6378137,298.257223563,\n",
      "            LENGTHUNIT[\"metre\",1]],\n",
      "        ENSEMBLEACCURACY[2.0]],\n",
      "    PRIMEM[\"Greenwich\",0,\n",
      "        ANGLEUNIT[\"degree\",0.0174532925199433]],\n",
      "    CS[ellipsoidal,2],\n",
      "        AXIS[\"geodetic latitude (Lat)\",north,\n",
      "            ORDER[1],\n",
      "            ANGLEUNIT[\"degree\",0.0174532925199433]],\n",
      "        AXIS[\"geodetic longitude (Lon)\",east,\n",
      "            ORDER[2],\n",
      "            ANGLEUNIT[\"degree\",0.0174532925199433]],\n",
      "    USAGE[\n",
      "        SCOPE[\"Horizontal component of 3D system.\"],\n",
      "        AREA[\"World.\"],\n",
      "        BBOX[-90,-180,90,180]],\n",
      "    ID[\"EPSG\",4326]]\n",
      "Data axis to CRS axis mapping: 2,1\n",
      "Origin = (83.585093083827061,28.265400583292337)\n",
      "Pixel Size = (0.000269494585236,-0.000269494585236)\n",
      "Metadata:\n",
      "  AREA_OR_POINT=Area\n",
      "  DataType=Generic\n",
      "Image Structure Metadata:\n",
      "  INTERLEAVE=BAND\n",
      "Corner Coordinates:\n",
      "Upper Left  (  83.5850931,  28.2654006) ( 83d35' 6.34\"E, 28d15'55.44\"N)\n",
      "Lower Left  (  83.5850931,  28.1894031) ( 83d35' 6.34\"E, 28d11'21.85\"N)\n",
      "Upper Right (  83.7597256,  28.2654006) ( 83d45'35.01\"E, 28d15'55.44\"N)\n",
      "Lower Right (  83.7597256,  28.1894031) ( 83d45'35.01\"E, 28d11'21.85\"N)\n",
      "Center      (  83.6724093,  28.2274018) ( 83d40'20.67\"E, 28d13'38.65\"N)\n",
      "Band 1 Block=128x128 Type=Byte, ColorInterp=Gray\n",
      "  NoData Value=0\n",
      "  Metadata:\n",
      "    RepresentationType=THEMATIC\n"
     ]
    }
   ],
   "source": [
    "!gdalinfo raster_example1.tif"
   ]
  },
  {
   "cell_type": "code",
   "execution_count": 11,
   "id": "a126546a",
   "metadata": {},
   "outputs": [
    {
     "data": {
      "text/plain": [
       "['raster_example1.tif']"
      ]
     },
     "execution_count": 11,
     "metadata": {},
     "output_type": "execute_result"
    }
   ],
   "source": [
    "# how to find the raster file name\n",
    "dataset.GetFileList()"
   ]
  },
  {
   "cell_type": "code",
   "execution_count": 37,
   "id": "47c9279d",
   "metadata": {},
   "outputs": [],
   "source": [
    "# how to know the size of your raster (column, rows)\n",
    "NO_COLUMN = dataset.RasterXSize"
   ]
  },
  {
   "cell_type": "code",
   "execution_count": 13,
   "id": "7693b1e2",
   "metadata": {},
   "outputs": [
    {
     "data": {
      "text/plain": [
       "'GEOGCS[\"WGS 84\",DATUM[\"WGS_1984\",SPHEROID[\"WGS 84\",6378137,298.257223563,AUTHORITY[\"EPSG\",\"7030\"]],AUTHORITY[\"EPSG\",\"6326\"]],PRIMEM[\"Greenwich\",0,AUTHORITY[\"EPSG\",\"8901\"]],UNIT[\"degree\",0.0174532925199433,AUTHORITY[\"EPSG\",\"9122\"]],AXIS[\"Latitude\",NORTH],AXIS[\"Longitude\",EAST],AUTHORITY[\"EPSG\",\"4326\"]]'"
      ]
     },
     "execution_count": 13,
     "metadata": {},
     "output_type": "execute_result"
    }
   ],
   "source": [
    "# how to find the coordinate system of my raster\n",
    "dataset.GetProjection()"
   ]
  },
  {
   "cell_type": "code",
   "execution_count": 14,
   "id": "decad8d2",
   "metadata": {},
   "outputs": [],
   "source": [
    "# myName -->  camel case\n",
    "# my_name --> snake case\n",
    "# MyName --> pascal case"
   ]
  },
  {
   "cell_type": "code",
   "execution_count": 17,
   "id": "806f5325",
   "metadata": {},
   "outputs": [
    {
     "data": {
      "text/plain": [
       "(83.58509308382706,\n",
       " 0.00026949458523584514,\n",
       " 0.0,\n",
       " 28.265400583292337,\n",
       " 0.0,\n",
       " -0.00026949458523584655)"
      ]
     },
     "execution_count": 17,
     "metadata": {},
     "output_type": "execute_result"
    }
   ],
   "source": [
    "# how to find the geotransform parameteres\n",
    "trans = dataset.GetGeoTransform()\n",
    "trans"
   ]
  },
  {
   "cell_type": "code",
   "execution_count": 34,
   "id": "6f26439a",
   "metadata": {},
   "outputs": [],
   "source": [
    "X_L = trans[0] #--> coordinate of x_left_corner"
   ]
  },
  {
   "cell_type": "code",
   "execution_count": 35,
   "id": "01d738ab",
   "metadata": {},
   "outputs": [],
   "source": [
    "Y_L = trans[3] # y coordinate of left corner"
   ]
  },
  {
   "cell_type": "code",
   "execution_count": 36,
   "id": "95fb71dd",
   "metadata": {},
   "outputs": [],
   "source": [
    "PIXEL_WIDTH = trans[1] # pixel width"
   ]
  },
  {
   "cell_type": "code",
   "execution_count": 24,
   "id": "93cb8b30",
   "metadata": {},
   "outputs": [
    {
     "data": {
      "text/plain": [
       "-0.00026949458523584655"
      ]
     },
     "execution_count": 24,
     "metadata": {},
     "output_type": "execute_result"
    }
   ],
   "source": [
    "trans[-1] # pixel height"
   ]
  },
  {
   "cell_type": "code",
   "execution_count": 27,
   "id": "090f9290",
   "metadata": {},
   "outputs": [],
   "source": [
    "import PIL\n",
    "from PIL import Image"
   ]
  },
  {
   "cell_type": "code",
   "execution_count": 28,
   "id": "9d4860bc",
   "metadata": {},
   "outputs": [],
   "source": [
    "DEMONS = Image.open('cell_raster.png')"
   ]
  },
  {
   "cell_type": "code",
   "execution_count": 33,
   "id": "36d82e48",
   "metadata": {},
   "outputs": [
    {
     "data": {
      "image/png": "[encoded data removed]",
      "text/plain": [
       "<PIL.Image.Image image mode=RGBA size=800x500>"
      ]
     },
     "execution_count": 33,
     "metadata": {},
     "output_type": "execute_result"
    }
   ],
   "source": [
    "DEMONS.resize((800,500))"
   ]
  },
  {
   "cell_type": "code",
   "execution_count": 39,
   "id": "fd1ee4f7",
   "metadata": {},
   "outputs": [],
   "source": [
    "RASTER_WIDTH = NO_COLUMN * PIXEL_WIDTH"
   ]
  },
  {
   "cell_type": "code",
   "execution_count": 40,
   "id": "f51f02e3",
   "metadata": {},
   "outputs": [
    {
     "data": {
      "text/plain": [
       "0.17463249123282765"
      ]
     },
     "execution_count": 40,
     "metadata": {},
     "output_type": "execute_result"
    }
   ],
   "source": [
    "RASTER_WIDTH"
   ]
  },
  {
   "cell_type": "code",
   "execution_count": 41,
   "id": "e1680960",
   "metadata": {},
   "outputs": [],
   "source": [
    "X_R = X_L + RASTER_WIDTH"
   ]
  },
  {
   "cell_type": "code",
   "execution_count": 42,
   "id": "b2c21a4a",
   "metadata": {},
   "outputs": [
    {
     "data": {
      "text/plain": [
       "83.75972557505989"
      ]
     },
     "execution_count": 42,
     "metadata": {},
     "output_type": "execute_result"
    }
   ],
   "source": [
    "X_R"
   ]
  },
  {
   "cell_type": "code",
   "execution_count": 45,
   "id": "75166d8a",
   "metadata": {},
   "outputs": [],
   "source": [
    "import matplotlib.pyplot as plt"
   ]
  },
  {
   "cell_type": "code",
   "execution_count": null,
   "id": "2e7a41ea",
   "metadata": {},
   "outputs": [],
   "source": []
  }
 ],
 "metadata": {
  "kernelspec": {
   "display_name": "Python 3 (ipykernel)",
   "language": "python",
   "name": "python3"
  },
  "language_info": {
   "codemirror_mode": {
    "name": "ipython",
    "version": 3
   },
   "file_extension": ".py",
   "mimetype": "text/x-python",
   "name": "python",
   "nbconvert_exporter": "python",
   "pygments_lexer": "ipython3",
   "version": "3.11.0"
  }
 },
 "nbformat": 4,
 "nbformat_minor": 5
}

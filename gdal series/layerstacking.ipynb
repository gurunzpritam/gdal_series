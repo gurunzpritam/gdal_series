{
 "cells": [
  {
   "cell_type": "markdown",
   "id": "7b37ee6f",
   "metadata": {},
   "source": [
    "# HOW TO DO LAYERSTACKING IN GDAL"
   ]
  },
  {
   "cell_type": "code",
   "execution_count": 1,
   "id": "89487ba3",
   "metadata": {},
   "outputs": [],
   "source": [
    "from osgeo import gdal"
   ]
  },
  {
   "cell_type": "code",
   "execution_count": 2,
   "id": "0c8c6f96",
   "metadata": {},
   "outputs": [],
   "source": [
    "dataset4 = gdal.Open('4.jp2')\n",
    "dataset3 = gdal.Open('3.jp2')\n",
    "dataset2 = gdal.Open('2.jp2')"
   ]
  },
  {
   "cell_type": "code",
   "execution_count": 3,
   "id": "d9f3e74e",
   "metadata": {},
   "outputs": [],
   "source": [
    "band4 = dataset4.GetRasterBand(1)\n",
    "band3 = dataset3.GetRasterBand(1)\n",
    "band2 = dataset2.GetRasterBand(1)"
   ]
  },
  {
   "cell_type": "code",
   "execution_count": 4,
   "id": "c5def748",
   "metadata": {},
   "outputs": [],
   "source": [
    "driver = gdal.GetDriverByName('GTIFF')"
   ]
  },
  {
   "cell_type": "code",
   "execution_count": 5,
   "id": "32dab668",
   "metadata": {},
   "outputs": [],
   "source": [
    "des_ds = driver.Create('destination.jp2',\n",
    "                      xsize = dataset4.RasterXSize,\n",
    "                      ysize= dataset4.RasterYSize,\n",
    "                      bands = 3,\n",
    "                      eType= band4.DataType)"
   ]
  },
  {
   "cell_type": "code",
   "execution_count": 6,
   "id": "de7ab621",
   "metadata": {},
   "outputs": [
    {
     "data": {
      "text/plain": [
       "0"
      ]
     },
     "execution_count": 6,
     "metadata": {},
     "output_type": "execute_result"
    }
   ],
   "source": [
    "des_ds.SetProjection(dataset4.GetProjection())"
   ]
  },
  {
   "cell_type": "code",
   "execution_count": 7,
   "id": "84963214",
   "metadata": {},
   "outputs": [
    {
     "data": {
      "text/plain": [
       "0"
      ]
     },
     "execution_count": 7,
     "metadata": {},
     "output_type": "execute_result"
    }
   ],
   "source": [
    "des_ds.SetGeoTransform(dataset4.GetGeoTransform())"
   ]
  },
  {
   "cell_type": "code",
   "execution_count": 8,
   "id": "bf98f94f",
   "metadata": {},
   "outputs": [
    {
     "data": {
      "text/plain": [
       "0"
      ]
     },
     "execution_count": 8,
     "metadata": {},
     "output_type": "execute_result"
    }
   ],
   "source": [
    "des_ds.GetRasterBand(3).WriteArray(band4.ReadAsArray())"
   ]
  },
  {
   "cell_type": "code",
   "execution_count": 9,
   "id": "c7725cc4",
   "metadata": {},
   "outputs": [
    {
     "data": {
      "text/plain": [
       "0"
      ]
     },
     "execution_count": 9,
     "metadata": {},
     "output_type": "execute_result"
    }
   ],
   "source": [
    "des_ds.GetRasterBand(2).WriteArray(band3.ReadAsArray())"
   ]
  },
  {
   "cell_type": "code",
   "execution_count": 10,
   "id": "327314ae",
   "metadata": {},
   "outputs": [
    {
     "data": {
      "text/plain": [
       "0"
      ]
     },
     "execution_count": 10,
     "metadata": {},
     "output_type": "execute_result"
    }
   ],
   "source": [
    "des_ds.GetRasterBand(1).WriteArray(band2.ReadAsArray())"
   ]
  },
  {
   "cell_type": "code",
   "execution_count": 11,
   "id": "772cab0d",
   "metadata": {},
   "outputs": [],
   "source": [
    "des_ds.FlushCache()"
   ]
  },
  {
   "cell_type": "code",
   "execution_count": null,
   "id": "0a49392d",
   "metadata": {},
   "outputs": [],
   "source": []
  }
 ],
 "metadata": {
  "kernelspec": {
   "display_name": "Python 3 (ipykernel)",
   "language": "python",
   "name": "python3"
  },
  "language_info": {
   "codemirror_mode": {
    "name": "ipython",
    "version": 3
   },
   "file_extension": ".py",
   "mimetype": "text/x-python",
   "name": "python",
   "nbconvert_exporter": "python",
   "pygments_lexer": "ipython3",
   "version": "3.11.0"
  }
 },
 "nbformat": 4,
 "nbformat_minor": 5
}
